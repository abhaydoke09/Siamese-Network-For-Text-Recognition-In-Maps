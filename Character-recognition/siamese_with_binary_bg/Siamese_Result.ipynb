{
 "cells": [
  {
   "cell_type": "markdown",
   "metadata": {},
   "source": [
    "## Siamese Results With Map Background Texture"
   ]
  },
  {
   "cell_type": "markdown",
   "metadata": {},
   "source": [
    "#### Every target image is being compared with 31 test images. Out of 31 test images, 20% of the images are positive i.e. contains same word as that of the target image. "
   ]
  },
  {
   "cell_type": "code",
   "execution_count": null,
   "metadata": {
    "collapsed": false
   },
   "outputs": [
    {
     "name": "stdout",
     "output_type": "stream",
     "text": [
      "INFO:tensorflow:Restoring parameters from trained_models/model_binary_bg_margin_2399.ckpt\n"
     ]
    },
    {
     "name": "stderr",
     "output_type": "stream",
     "text": [
      "INFO:tensorflow:Restoring parameters from trained_models/model_binary_bg_margin_2399.ckpt\n"
     ]
    }
   ],
   "source": [
    "from __future__ import absolute_import\n",
    "from __future__ import division\n",
    "from __future__ import print_function\n",
    "\n",
    "# import system things\n",
    "import tensorflow as tf\n",
    "import numpy as np\n",
    "import os\n",
    "import pickle\n",
    "from util import get_test_results\n",
    "\n",
    "from data_generator_for_siamese import ImageDataGenerator\n",
    "from datetime import datetime\n",
    "from tensorflow.contrib.data import Iterator\n",
    "from tensorflow.contrib.data import Dataset\n",
    "from helper import get_dataset\n",
    "import siamese\n",
    "from matplotlib import pyplot as plt\n",
    "%matplotlib inline\n",
    "\n",
    "# prepare data and tf.session\n",
    "sess = tf.InteractiveSession()\n",
    "num_classes = 999\n",
    "batch_size = 32\n",
    "# setup siamese network\n",
    "siamese_model = siamese.siamese_network(batch_size);\n",
    "train_step = tf.train.AdamOptimizer(0.001).minimize(siamese_model.loss)\n",
    "saver = tf.train.Saver()\n",
    "\n",
    "train_file = 'word_train.txt'\n",
    "val_file = 'word_val.txt'\n",
    "# Place data loading and preprocessing on the cpu\n",
    "with tf.device('/cpu:0'):\n",
    "    tr_data = ImageDataGenerator(train_file,\n",
    "                                 mode='training',\n",
    "                                 batch_size=batch_size,\n",
    "                                 num_classes=num_classes,\n",
    "                                 shuffle=True)\n",
    "\n",
    "sess.run(tf.global_variables_initializer())\n",
    "# start training\n",
    "\n",
    "#siamese_model.load_initial_weights(sess)\n",
    "num_epochs = 300\n",
    "new = False\n",
    "\n",
    "saver.restore(sess, 'trained_models/model_binary_bg_margin_2399.ckpt')\n",
    "\n",
    "embed = None\n",
    "flag = False\n",
    "\n",
    "for i in range(10):\n",
    "    batch_x1, color_images, batch_y1, test_words = tr_data.get_test_batch(batch_size)\n",
    "    word_list = batch_x1\n",
    "    result_vectors = siamese_model.o1.eval({siamese_model.x1: batch_x1})\n",
    "    result = get_test_results(test_words, result_vectors)\n",
    "    print(\"Original Image\")\n",
    "    plt.imshow(color_images[0])\n",
    "    plt.show()\n",
    "    print(\"*\"*20)\n",
    "    print(\"Top 5 matching images\")\n",
    "    print(\"*\"*20)\n",
    "    for i in range(5):\n",
    "        plt.imshow(color_images[result[i][2]])\n",
    "        print(\"Distance:\", result[i][1])\n",
    "        plt.show()"
   ]
  },
  {
   "cell_type": "code",
   "execution_count": null,
   "metadata": {
    "collapsed": false
   },
   "outputs": [],
   "source": []
  },
  {
   "cell_type": "code",
   "execution_count": null,
   "metadata": {
    "collapsed": true
   },
   "outputs": [],
   "source": []
  }
 ],
 "metadata": {
  "kernelspec": {
   "display_name": "Python 2",
   "language": "python",
   "name": "python2"
  },
  "language_info": {
   "codemirror_mode": {
    "name": "ipython",
    "version": 2
   },
   "file_extension": ".py",
   "mimetype": "text/x-python",
   "name": "python",
   "nbconvert_exporter": "python",
   "pygments_lexer": "ipython2",
   "version": "2.7.10"
  }
 },
 "nbformat": 4,
 "nbformat_minor": 0
}
