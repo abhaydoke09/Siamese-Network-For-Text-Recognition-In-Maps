{
 "cells": [
  {
   "cell_type": "code",
   "execution_count": 1,
   "metadata": {
    "collapsed": true
   },
   "outputs": [],
   "source": [
    "import numpy as np\n",
    "import sys\n",
    "import matplotlib.pyplot as plt\n",
    "%matplotlib inline"
   ]
  },
  {
   "cell_type": "code",
   "execution_count": 45,
   "metadata": {
    "collapsed": false
   },
   "outputs": [
    {
     "name": "stdout",
     "output_type": "stream",
     "text": [
      "[<PIL.PngImagePlugin.PngImageFile image mode=RGB size=128x128 at 0x10D9BB4D0>, <PIL.PngImagePlugin.PngImageFile image mode=RGB size=128x128 at 0x10D9BBB50>, <PIL.PngImagePlugin.PngImageFile image mode=RGB size=128x128 at 0x10D9BB050>]\n",
      "[<PIL.Image._ImageCrop image mode=RGB size=60x90 at 0x10D7DB790>, <PIL.Image._ImageCrop image mode=RGB size=60x90 at 0x10D97A4D0>, <PIL.Image._ImageCrop image mode=RGB size=60x90 at 0x10D7DB550>]\n",
      "(60, 60, 60) (90, 90, 90)\n"
     ]
    },
    {
     "data": {
      "image/png": "[encoded data removed]",
      "text/plain": [
       "<matplotlib.figure.Figure at 0x10da0c410>"
      ]
     },
     "metadata": {},
     "output_type": "display_data"
    }
   ],
   "source": [
    "import sys\n",
    "from PIL import Image\n",
    "\n",
    "images = map(Image.open, ['Aachen--R.png', 'Aachen--S.png', 'Aachen--V.png'])\n",
    "print images\n",
    "cropped_images = []\n",
    "\n",
    "for image in images:\n",
    "    im = image.crop((35,20,95,110))\n",
    "    im.save()\n",
    "\n",
    "print cropped_images\n",
    "widths, heights = zip(*(i.size for i in cropped_images))\n",
    "plt.imshow(cropped_images[1])\n",
    "print widths, heights\n",
    "\n",
    "total_width = sum(widths)\n",
    "max_height = max(heights)\n",
    "\n",
    "new_im = Image.new('RGB', (total_width, max_height))\n",
    "\n",
    "\n",
    "x_offset = 0\n",
    "for im in cropped_images:\n",
    "    x_offset += im.size[0]\n",
    "\n",
    "new_im.save('test.jpg')"
   ]
  },
  {
   "cell_type": "code",
   "execution_count": null,
   "metadata": {
    "collapsed": true
   },
   "outputs": [],
   "source": []
  }
 ],
 "metadata": {
  "kernelspec": {
   "display_name": "Python 2",
   "language": "python",
   "name": "python2"
  },
  "language_info": {
   "codemirror_mode": {
    "name": "ipython",
    "version": 2
   },
   "file_extension": ".py",
   "mimetype": "text/x-python",
   "name": "python",
   "nbconvert_exporter": "python",
   "pygments_lexer": "ipython2",
   "version": "2.7.10"
  }
 },
 "nbformat": 4,
 "nbformat_minor": 0
}
