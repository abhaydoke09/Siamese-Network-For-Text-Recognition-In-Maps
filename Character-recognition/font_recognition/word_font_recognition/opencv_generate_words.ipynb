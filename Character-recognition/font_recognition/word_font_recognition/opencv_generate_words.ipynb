{
 "cells": [
  {
   "cell_type": "code",
   "execution_count": 166,
   "metadata": {
    "collapsed": true
   },
   "outputs": [],
   "source": [
    "import numpy as np\n",
    "import sys\n",
    "import matplotlib.pyplot as plt\n",
    "import pickle\n",
    "import cv2\n",
    "import imutils\n",
    "import random\n",
    "import re\n",
    "%matplotlib inline"
   ]
  },
  {
   "cell_type": "code",
   "execution_count": 172,
   "metadata": {
    "collapsed": false
   },
   "outputs": [],
   "source": [
    "def readWordList():\n",
    "    word_list = []\n",
    "    f = open('high_frequency_english_words.txt',rb)\n",
    "    word_list = f.readlines()\n",
    "    f.close()\n",
    "    \n",
    "    for i,line in enumerate(word_list):\n",
    "        lines[i] = re.sub(r'[^a-zA-Z0-9]','',line)\n",
    "        lines[i] = line[i].lower()\n",
    "    \n",
    "    return word_list\n",
    "    \n",
    "\n",
    "def changeCase(word):\n",
    "    case = random.randint(0,2)\n",
    "    if case == 0:\n",
    "        # get lowercase word\n",
    "        return word.lower()\n",
    "    elif case == 1:\n",
    "        # get camelcase word\n",
    "        return word[0].upper()+word[1:]\n",
    "    else:\n",
    "        # get uppercase word\n",
    "        return word.upper()\n",
    "\n",
    "def getImageFromWord(word):\n",
    "    \n",
    "    word = changeCase(word)\n",
    "    \n",
    "    height, width = 512, 512\n",
    "    img = np.zeros((height,width,3), np.uint8)\n",
    "    img[:,:,:] = 255\n",
    "    \n",
    "    font                   = random.choice([0,1,2,3,4]) | 16 if random.randint(0,1) else 0\n",
    "    bottomLeftCornerOfText = (30,150)\n",
    "    fontScale              = 4\n",
    "    fontColor              = (0,0,0)\n",
    "    lineType               = random.randint(2,4)\n",
    "    \n",
    "    while True:\n",
    "        textsize = cv2.getTextSize(word, font, fontScale, lineType)[0]\n",
    "        if textsize[0] < width - 40:\n",
    "            break\n",
    "        else:\n",
    "            fontScale -= 1\n",
    "            \n",
    "    print textsize\n",
    "    \n",
    "    # get coords based on boundary\n",
    "    textX = (img.shape[1] - textsize[0]) / 2\n",
    "    textY = (img.shape[0] + textsize[1]) / 2\n",
    "\n",
    "    # add text centered on image\n",
    "    cv2.putText(img, word, (textX, textY ), font, fontScale, fontColor, lineType)\n",
    "    \n",
    "    rotateFlag = random.randint(0,1)\n",
    "    if rotateFlag:\n",
    "        rotateAngle = random.randint(-10,10)\n",
    "        M = cv2.getRotationMatrix2D((width/2,height/2),rotateAngle,1)\n",
    "        img = cv2.warpAffine(img,M,(width,height),borderValue=(255,255,255))\n",
    "    \n",
    "    affineFlag = random.randint(0,1)\n",
    "    if affineFlag:\n",
    "        pts1 = np.float32([[10,10],[200,50],[50,200]])\n",
    "        pts2 = np.float32([[10+random.randint(-20,20),30+random.randint(-20,20)]\n",
    "                           ,[200,50],\n",
    "                           [50+random.randint(-20,20),200+random.randint(-20,20)]])\n",
    "\n",
    "        M = cv2.getAffineTransform(pts1,pts2)\n",
    "        img = cv2.warpAffine(img,M,(width,height),borderValue=(255,255,255))\n",
    "\n",
    "    plt.imshow(img)\n",
    "    #print img.shape\n",
    "    #return img"
   ]
  },
  {
   "cell_type": "code",
   "execution_count": 181,
   "metadata": {
    "collapsed": false
   },
   "outputs": [
    {
     "name": "stdout",
     "output_type": "stream",
     "text": [
      "(451, 38)\n"
     ]
    },
    {
     "data": {
      "image/png": "[encoded data removed]",
      "text/plain": [
       "<matplotlib.figure.Figure at 0x11932d990>"
      ]
     },
     "metadata": {},
     "output_type": "display_data"
    }
   ],
   "source": []
  },
  {
   "cell_type": "code",
   "execution_count": null,
   "metadata": {
    "collapsed": true
   },
   "outputs": [],
   "source": []
  },
  {
   "cell_type": "code",
   "execution_count": null,
   "metadata": {
    "collapsed": true
   },
   "outputs": [],
   "source": []
  }
 ],
 "metadata": {
  "kernelspec": {
   "display_name": "Python 2",
   "language": "python",
   "name": "python2"
  },
  "language_info": {
   "codemirror_mode": {
    "name": "ipython",
    "version": 2
   },
   "file_extension": ".py",
   "mimetype": "text/x-python",
   "name": "python",
   "nbconvert_exporter": "python",
   "pygments_lexer": "ipython2",
   "version": "2.7.10"
  }
 },
 "nbformat": 4,
 "nbformat_minor": 0
}
