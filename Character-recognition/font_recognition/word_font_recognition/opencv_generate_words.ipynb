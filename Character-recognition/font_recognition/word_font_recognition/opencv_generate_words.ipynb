{
 "cells": [
  {
   "cell_type": "code",
   "execution_count": 2,
   "metadata": {
    "collapsed": true
   },
   "outputs": [],
   "source": [
    "import numpy as np\n",
    "import sys\n",
    "import matplotlib.pyplot as plt\n",
    "import pickle\n",
    "import cv2\n",
    "import imutils\n",
    "import random\n",
    "import re\n",
    "from tqdm import tqdm\n",
    "%matplotlib inline"
   ]
  },
  {
   "cell_type": "code",
   "execution_count": 33,
   "metadata": {
    "collapsed": false
   },
   "outputs": [],
   "source": [
    "def getWordList():\n",
    "    word_list = []\n",
    "    f = open('high_frequency_english_words.txt','rb')\n",
    "    word_list = f.readlines()\n",
    "    f.close()\n",
    "    \n",
    "    for i,line in enumerate(word_list):\n",
    "        word_list[i] = line.lower()\n",
    "        word_list[i] = re.sub(r'[^a-zA-Z0-9]','',line)\n",
    "        word_list[i] = re.sub(r'[\\n\\r]','',line)\n",
    "        word_list[i] = line.lower()\n",
    "    \n",
    "    return word_list\n",
    "    \n",
    "\n",
    "def changeCase(word):\n",
    "    case = random.randint(0,2)\n",
    "    if case == 0:\n",
    "        # get lowercase word\n",
    "        return word.lower()\n",
    "    elif case == 1:\n",
    "        # get camelcase word\n",
    "        return word[0].upper()+word[1:]\n",
    "    else:\n",
    "        # get uppercase word\n",
    "        return word.upper()\n",
    "\n",
    "def getImageFromWord(word):\n",
    "    word = changeCase(word)\n",
    "    \n",
    "    height, width = 512, 512\n",
    "    img = np.zeros((height,width,3), np.uint8)\n",
    "    img[:,:,:] = 255\n",
    "    \n",
    "    font                   = random.choice([0,1,2,3,4]) | 16 if random.randint(0,1) else 0\n",
    "    bottomLeftCornerOfText = (30,150)\n",
    "    fontScale              = 5\n",
    "    fontColor              = (0,0,0)\n",
    "    lineType               = random.randint(2,4)\n",
    "    \n",
    "    while True:\n",
    "        textsize = cv2.getTextSize(word, font, fontScale, lineType)[0]\n",
    "        if textsize[0] < width - 20:\n",
    "            break\n",
    "        else:\n",
    "            fontScale -= 1\n",
    "            \n",
    "    #print textsize\n",
    "    \n",
    "    # get coords based on boundary\n",
    "    textX = (img.shape[1] - textsize[0]) / 2\n",
    "    textY = (img.shape[0] + textsize[1]) / 2\n",
    "\n",
    "    # add text centered on image\n",
    "    cv2.putText(img, word, (textX, textY ), font, fontScale, fontColor, lineType)\n",
    "    \n",
    "    rotateFlag = random.randint(0,1)\n",
    "    if rotateFlag:\n",
    "        rotateAngle = random.randint(-10,10)\n",
    "        M = cv2.getRotationMatrix2D((width/2,height/2),rotateAngle,1)\n",
    "        img = cv2.warpAffine(img,M,(width,height),borderValue=(255,255,255))\n",
    "    \n",
    "    affineFlag = random.randint(0,1)\n",
    "    if affineFlag:\n",
    "        pts1 = np.float32([[10,10],[200,50],[50,200]])\n",
    "        pts2 = np.float32([[10+random.randint(-20,20),30+random.randint(-20,20)]\n",
    "                           ,[200,50],\n",
    "                           [50+random.randint(-20,20),200+random.randint(-20,20)]])\n",
    "\n",
    "        M = cv2.getAffineTransform(pts1,pts2)\n",
    "        img = cv2.warpAffine(img,M,(width,height),borderValue=(255,255,255))\n",
    "    \n",
    "    img = cv2.resize(img, (256, 256)) \n",
    "    #plt.imshow(img)\n",
    "    #print img.shape\n",
    "    return img\n",
    "\n",
    "def generateData():\n",
    "    word_list = getWordList()\n",
    "    #print word_list\n",
    "    trainFile = open('word_train.txt','wb')\n",
    "    valFile = open('word_val.txt','wb')\n",
    "    testFile = open('word_test.txt','wb')\n",
    "    \n",
    "    SAVE_DIR = '/Users/abhaydoke/Downloads/word_image_data/'\n",
    "    classLabel = 0\n",
    "    for word in tqdm(word_list):\n",
    "        word = re.sub(r'[^a-zA-Z0-9]','',word)\n",
    "        for i in xrange(150):\n",
    "            img = getImageFromWord(word)\n",
    "            cv2.imwrite(SAVE_DIR+word+str(i)+'.png', img)\n",
    "            if i<100:\n",
    "                trainFile.write('./word_image_data/'+word+str(i)+'.png'+' '+str(classLabel)+'\\n')\n",
    "            elif i>=100 and i < 120:\n",
    "                valFile.write('./word_image_data/'+word+str(i)+'.png'+' '+str(classLabel)+'\\n')\n",
    "            else:\n",
    "                testFile.write('./word_image_data/'+word+str(i)+'.png'+' '+str(classLabel)+'\\n')\n",
    "        classLabel+=1\n",
    "    trainFile.close()\n",
    "    valFile.close()\n",
    "    testFile.close()"
   ]
  },
  {
   "cell_type": "code",
   "execution_count": null,
   "metadata": {
    "collapsed": false
   },
   "outputs": [
    {
     "name": "stderr",
     "output_type": "stream",
     "text": [
      "  5%|▍         | 49/999 [00:34<11:04,  1.43it/s]"
     ]
    }
   ],
   "source": [
    "#getImageFromWord(\"sdfsdfsdfdf\")\n",
    "generateData()"
   ]
  },
  {
   "cell_type": "code",
   "execution_count": null,
   "metadata": {
    "collapsed": false
   },
   "outputs": [],
   "source": []
  },
  {
   "cell_type": "code",
   "execution_count": null,
   "metadata": {
    "collapsed": true
   },
   "outputs": [],
   "source": []
  }
 ],
 "metadata": {
  "kernelspec": {
   "display_name": "Python 2",
   "language": "python",
   "name": "python2"
  },
  "language_info": {
   "codemirror_mode": {
    "name": "ipython",
    "version": 2
   },
   "file_extension": ".py",
   "mimetype": "text/x-python",
   "name": "python",
   "nbconvert_exporter": "python",
   "pygments_lexer": "ipython2",
   "version": "2.7.10"
  }
 },
 "nbformat": 4,
 "nbformat_minor": 0
}
