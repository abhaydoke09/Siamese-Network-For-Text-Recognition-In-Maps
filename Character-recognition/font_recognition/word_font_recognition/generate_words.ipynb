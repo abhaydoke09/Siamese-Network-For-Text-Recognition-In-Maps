{
 "cells": [
  {
   "cell_type": "code",
   "execution_count": 5,
   "metadata": {
    "collapsed": true
   },
   "outputs": [],
   "source": [
    "import numpy as np\n",
    "import sys\n",
    "import matplotlib.pyplot as plt\n",
    "%matplotlib inline"
   ]
  },
  {
   "cell_type": "code",
   "execution_count": 90,
   "metadata": {
    "collapsed": false
   },
   "outputs": [],
   "source": [
    "import sys\n",
    "from PIL import Image\n",
    "import re\n",
    "import glob\n",
    "import random\n",
    "\n",
    "def joinImages(imageFiles):\n",
    "    imageList = []\n",
    "    for i,imagePath in enumerate(imageFiles):\n",
    "        image = Image.open(imagePath)\n",
    "        if i == 0:\n",
    "            leftSpacing = 20\n",
    "            rightSpacing = 30\n",
    "        elif i == len(imageFiles)-1:\n",
    "            leftSpacing = 30\n",
    "            rightSpacing = 20\n",
    "        else:\n",
    "            leftSpacing = 30\n",
    "            rightSpacing = 30\n",
    "            \n",
    "        verticalRemoval = 15\n",
    "        image = image.crop((leftSpacing, verticalRemoval, 128-rightSpacing, 128-verticalRemoval))\n",
    "        imageList.append(image)\n",
    "    \n",
    "    width = 0\n",
    "    height = imageList[0].size[1]\n",
    "    for image in imageList:\n",
    "        width += image.size[0]\n",
    "    \n",
    "    new_im = Image.new('RGB', (width,height))\n",
    "    offset = 0\n",
    "    for image in imageList:\n",
    "        new_im.paste(image, (offset,0))\n",
    "        offset+=image.size[0]\n",
    "    return new_im\n",
    "\n",
    "def getFontLabelsDict(filename):\n",
    "    f = open('../font_labels.txt','rb')\n",
    "    lines = f.readlines()\n",
    "    f.close()\n",
    "    d = {}\n",
    "    for line in lines:\n",
    "        line = re.sub(r'[\\n\\r]+', '', line)\n",
    "        font_name, label = line.split(' ')\n",
    "        d[font_name] = label\n",
    "    return d\n",
    "\n",
    "def getCharsForFont(fontName, path, fontLabels):\n",
    "    result = {}\n",
    "    for font in fontLabels:\n",
    "        result[font] = {'digits':{},'lowercase':{}, 'uppercase':{}}\n",
    "\n",
    "    for filename in glob.glob(path+'*.png'): #assuming png\n",
    "        # Example file name ../new_color/ae_Jet--q.png\n",
    "        name = filename.split('--')[0].split('/')[-1]\n",
    "        c = filename.split('--')[-1].split('.')[0]        \n",
    "        if ord(c) - ord('0') >=0 and ord(c) - ord('0') <=9:\n",
    "            result[name]['digits'][c] = filename\n",
    "        elif ord(c) - ord('a') >=0 and ord(c) - ord('a') <=25:\n",
    "            result[name]['lowercase'][c] = filename\n",
    "        else:\n",
    "            result[name]['uppercase'][c] = filename\n",
    "    return result\n",
    "\n",
    "def getWord(fontDataDict):\n",
    "    pass\n",
    "    \n",
    "    "
   ]
  },
  {
   "cell_type": "code",
   "execution_count": 91,
   "metadata": {
    "collapsed": false
   },
   "outputs": [],
   "source": [
    "fontLabels = getFontLabelsDict('../font_labels.txt')\n",
    "result = getCharsForFont('Calligraph810-BT', '../letters-data/new_color/', fontLabels)"
   ]
  },
  {
   "cell_type": "code",
   "execution_count": 92,
   "metadata": {
    "collapsed": false
   },
   "outputs": [],
   "source": [
    "import pickle\n",
    "pickle.dump( result, open( \"font_image_dictionary.pickle\", \"wb\" ) )"
   ]
  },
  {
   "cell_type": "code",
   "execution_count": 93,
   "metadata": {
    "collapsed": false
   },
   "outputs": [
    {
     "name": "stdout",
     "output_type": "stream",
     "text": [
      "1866\n"
     ]
    }
   ],
   "source": [
    "data = pickle.load( open( \"font_image_dictionary.pickle\", \"rb\" ) )\n",
    "print len(data)"
   ]
  },
  {
   "cell_type": "code",
   "execution_count": 94,
   "metadata": {
    "collapsed": false
   },
   "outputs": [
    {
     "name": "stdout",
     "output_type": "stream",
     "text": [
      "['A', 'C', 'M', 'O', 'P', 'S', 'T', 'W', 'V', 'X', 'Z']\n"
     ]
    }
   ],
   "source": [
    "count  = 0\n",
    "for font, font_images in data.items():\n",
    "    print data[font]['uppercase'].keys()\n",
    "    count+=1\n",
    "    if count>=1:\n",
    "        break"
   ]
  },
  {
   "cell_type": "code",
   "execution_count": null,
   "metadata": {
    "collapsed": true
   },
   "outputs": [],
   "source": []
  }
 ],
 "metadata": {
  "kernelspec": {
   "display_name": "Python 2",
   "language": "python",
   "name": "python2"
  },
  "language_info": {
   "codemirror_mode": {
    "name": "ipython",
    "version": 2
   },
   "file_extension": ".py",
   "mimetype": "text/x-python",
   "name": "python",
   "nbconvert_exporter": "python",
   "pygments_lexer": "ipython2",
   "version": "2.7.10"
  }
 },
 "nbformat": 4,
 "nbformat_minor": 0
}
